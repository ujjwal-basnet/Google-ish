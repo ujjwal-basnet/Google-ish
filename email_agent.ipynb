{
 "cells": [
  {
   "cell_type": "code",
   "execution_count": 8,
   "id": "7aec04c0",
   "metadata": {},
   "outputs": [],
   "source": [
    "# Install required libraries\n",
    "\n",
    "import os\n",
    "from dotenv import load_dotenv\n",
    "import logging # Import logging early\n",
    "\n",
    "load_dotenv()\n",
    "\n",
    "# Your familiar email sending/fetching variables\n",
    "APP_PASSWORD = os.getenv('app_password')\n",
    "SENDER_EMAIL = os.getenv('sender')\n",
    "\n",
    "# Split recipients by comma if it's a string from .env\n",
    "RECIPIENTS_STR = os.getenv('recipients1', '')\n",
    "RECIPIENTS = [r.strip() for r in RECIPIENTS_STR.split(',') if r.strip()]\n",
    "\n",
    "# For IMAP, you explicitly mentioned GMAIL_EMAIL in your example\n",
    "GMAIL_IMAP_EMAIL = os.getenv(\"GMAIL_EMAIL\", SENDER_EMAIL) # Fallback to SENDER_EMAIL if not set\n",
    "\n",
    "# OpenRouter API Key for AI models\n",
    "# OPENROUTER_API_KEY = os.getenv(\"OPENROUTER_API_KEY\")\n",
    "\n"
   ]
  },
  {
   "cell_type": "code",
   "execution_count": 9,
   "id": "ac62f6d4",
   "metadata": {},
   "outputs": [],
   "source": [
    "OPENROUTER_API_KEY= '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'"
   ]
  },
  {
   "cell_type": "markdown",
   "id": "94a3edad",
   "metadata": {},
   "source": [
    "## fetch emails"
   ]
  },
  {
   "cell_type": "code",
   "execution_count": 10,
   "id": "de983bb5",
   "metadata": {},
   "outputs": [],
   "source": [
    "fetched_emails = []\n",
    "num_emails_to_fetch = 5 # Let's fetch a small batch for testing purposes\n",
    "IMAP_SERVER = \"imap.gmail.com\" "
   ]
  },
  {
   "cell_type": "code",
   "execution_count": 11,
   "id": "0fe698e1",
   "metadata": {},
   "outputs": [
    {
     "name": "stdout",
     "output_type": "stream",
     "text": [
      "<imaplib.IMAP4_SSL object at 0x0000021902AE90D0>\n",
      "\n",
      "\n",
      "login sucessfull\n"
     ]
    }
   ],
   "source": [
    "import imaplib\n",
    "mail = imaplib.IMAP4_SSL(IMAP_SERVER)\n",
    "print(mail)\n",
    "print()\n",
    "\n",
    "## loging \n",
    "print() \n",
    "\n",
    "mail.login(user=GMAIL_IMAP_EMAIL , password=APP_PASSWORD )\n",
    "\n",
    "if mail:\n",
    "    print(\"login sucessfull\")\n"
   ]
  },
  {
   "cell_type": "code",
   "execution_count": 12,
   "id": "b7720107",
   "metadata": {},
   "outputs": [
    {
     "name": "stdout",
     "output_type": "stream",
     "text": [
      "status :  OK\n",
      "Total messages you have  are 3090\n"
     ]
    }
   ],
   "source": [
    "## continue fetch emails\n",
    "\n",
    "mail.select('inbox') ## select the inbox folder \n",
    "status , messages= mail.search(None , 'ALL')\n",
    "\n",
    "email_ids = messages[0].split() ## total email ids\n",
    "\n",
    "print(\"status : \" , status)# select inbox folder ,\n",
    "\n",
    "\n",
    "\n",
    "print(f\"Total messages you have  are {len(messages[0].split())}\")\n",
    "\n",
    "\n",
    "\n",
    "## get latest n emails UIDS \n",
    "latest_email_ids= email_ids[-num_emails_to_fetch:]\n",
    "\n",
    "\n",
    "\n",
    "import email\n",
    "## for uids \n",
    "for uid in latest_email_ids:\n",
    "    status, msg_data= mail.fetch(uid, \"(RFC822)\") ## fetch raw email in the standard RFC 822 text format\n",
    "    \n",
    "    raw_email_bytes= msg_data[0][1]\n",
    "    \n",
    "\n"
   ]
  },
  {
   "cell_type": "code",
   "execution_count": 13,
   "id": "bf447197",
   "metadata": {},
   "outputs": [
    {
     "data": {
      "text/plain": [
       "b'Delivered-To: ultopalto0@gmail.com\\r\\nReceived: by 2002:a05:622a:438c:b0:4ab:8221:d0f1 with SMTP id em'"
      ]
     },
     "execution_count": 13,
     "metadata": {},
     "output_type": "execute_result"
    }
   ],
   "source": [
    "raw_email_bytes[:100] ## the msg is prety messey it contains all the from to  , subject data stuff"
   ]
  },
  {
   "cell_type": "code",
   "execution_count": 14,
   "id": "9233d1b1",
   "metadata": {},
   "outputs": [
    {
     "name": "stdout",
     "output_type": "stream",
     "text": [
      "SO the subject of this information was: ** Inquiry About Job Opportunities **\n",
      "\n",
      "sender Ujjwal Basnet <ujjwalvictus15@gmail.com>\n"
     ]
    }
   ],
   "source": [
    "msg= email.message_from_bytes(raw_email_bytes)\n",
    "\n",
    "## decoding inline headers \n",
    "subject_raw= msg.get('Subject' , 'No Subject') ## sometimes email is sent without writting subject so no subject \n",
    "\n",
    "print(f\"SO the subject of this information was: ** {subject_raw} **\")\n",
    "\n",
    "from email.header import decode_header\n",
    "decoded_parts= decode_header(subject_raw)\n",
    "decoded_parts\n",
    "\n",
    "\n",
    "print()\n",
    "sender_raw = msg.get('From', 'Unknown Sender')\n",
    "print(\"sender\" , sender_raw)"
   ]
  },
  {
   "cell_type": "code",
   "execution_count": 15,
   "id": "1c5a6040",
   "metadata": {},
   "outputs": [
    {
     "data": {
      "text/plain": [
       "<bound method Message.is_multipart of <email.message.Message object at 0x0000021902B0F990>>"
      ]
     },
     "execution_count": 15,
     "metadata": {},
     "output_type": "execute_result"
    }
   ],
   "source": [
    "msg.is_multipart"
   ]
  },
  {
   "cell_type": "code",
   "execution_count": 16,
   "id": "0bcfd566",
   "metadata": {},
   "outputs": [
    {
     "name": "stdout",
     "output_type": "stream",
     "text": [
      "True\n"
     ]
    }
   ],
   "source": [
    "# check if msg is simple text or complex multi part\n",
    "print(msg.is_multipart())"
   ]
  },
  {
   "cell_type": "markdown",
   "id": "e326d662",
   "metadata": {},
   "source": [
    "### now solving complex multipart like might contains pdf, links , embedded images , pain text version of msg , html style text  (solving body part)"
   ]
  },
  {
   "cell_type": "code",
   "execution_count": 17,
   "id": "8f8f69e1",
   "metadata": {},
   "outputs": [],
   "source": [
    "for part in msg.walk(): \n",
    "    if part.get_content_type() == 'text/plain':\n",
    "        body= part.get_payload(decode= True).decode()\n",
    "        break"
   ]
  },
  {
   "cell_type": "code",
   "execution_count": 18,
   "id": "dcdda854",
   "metadata": {},
   "outputs": [
    {
     "name": "stdout",
     "output_type": "stream",
     "text": [
      "Dear Hiring Manager’s\n",
      "\n",
      "\n",
      "I hope this message finds you well.\n",
      "\n",
      "\n",
      "My name is ujjwal basnet, and I am currently exploring new career\n",
      "opportunities where I can contribute meaningfully while continuing to grow\n",
      "professionally. I am particularly interested in roles that align with my\n",
      "skills in [insert field here – e.g., software development, data analysis,\n",
      "content strategy], and your organization stood out to me as a place where\n",
      "innovation and impact go hand in hand.\n",
      "\n",
      "\n",
      "I would be grateful if you could let me know if there are any current or\n",
      "upcoming openings that match my background. I have attached my résumé for\n",
      "your reference, and I’d be happy to provide any additional details or\n",
      "references if needed.\n",
      "\n",
      "\n",
      "Thank you for your time and consideration. I look forward to the\n",
      "possibility of connecting with you further.\n",
      "\n",
      "\n",
      "Warm regards,\n",
      "\n",
      "Ujjwal basnet\n",
      "\n"
     ]
    }
   ],
   "source": [
    "print(body)"
   ]
  },
  {
   "cell_type": "markdown",
   "id": "717f5a25",
   "metadata": {},
   "source": [
    "## Fetched_emails"
   ]
  },
  {
   "cell_type": "code",
   "execution_count": 19,
   "id": "81017814",
   "metadata": {},
   "outputs": [],
   "source": [
    "fetched_emails.append({\n",
    "                    \"id\": uid.decode(), # Store UID as string\n",
    "                    \"subject\": subject_raw,\n",
    "                    \"sender\": sender_raw,\n",
    "                    \"body\": body,\n",
    "                    \"raw_message\": raw_email_bytes # Keep raw message for debugging if needed\n",
    "                })\n"
   ]
  },
  {
   "cell_type": "code",
   "execution_count": 20,
   "id": "eadc7a3d",
   "metadata": {},
   "outputs": [
    {
     "data": {
      "text/plain": [
       "dict_keys(['id', 'subject', 'sender', 'body', 'raw_message'])"
      ]
     },
     "execution_count": 20,
     "metadata": {},
     "output_type": "execute_result"
    }
   ],
   "source": [
    "fetched_emails[0].keys()"
   ]
  },
  {
   "cell_type": "markdown",
   "id": "82fc7241",
   "metadata": {},
   "source": [
    "Successfully fetched"
   ]
  },
  {
   "cell_type": "markdown",
   "id": "5384c162",
   "metadata": {},
   "source": [
    "### now close and log out  of the server "
   ]
  },
  {
   "cell_type": "code",
   "execution_count": 21,
   "id": "4a486aa5",
   "metadata": {},
   "outputs": [],
   "source": [
    "if 'mail' in locals() and mail.state == 'SELECTED':\n",
    "                mail.close()\n",
    "if 'mail' in locals() and mail.state == 'AUTH':\n",
    "                mail.logout()\n"
   ]
  },
  {
   "cell_type": "code",
   "execution_count": 22,
   "id": "70929367",
   "metadata": {},
   "outputs": [
    {
     "data": {
      "text/plain": [
       "True"
      ]
     },
     "execution_count": 22,
     "metadata": {},
     "output_type": "execute_result"
    }
   ],
   "source": [
    "mail.state == \"LOGOUT\""
   ]
  },
  {
   "cell_type": "markdown",
   "id": "ee96d7ba",
   "metadata": {},
   "source": [
    "### select email "
   ]
  },
  {
   "cell_type": "code",
   "execution_count": 24,
   "id": "c1199ef8",
   "metadata": {},
   "outputs": [],
   "source": [
    "from typing import TypedDict, List, Dict, Any\n",
    "class EmailState(TypedDict):\n",
    "    \"\"\"\n",
    "    Represents the state of an email as it moves through the processing pipeline.\n",
    "    \"\"\"\n",
    "    emails: List[Dict[str, Any]]\n",
    "    current_email: Dict[str, Any]\n",
    "    history: List[Dict[str, Any]]\n",
    "    metadata: Dict[str, Any]\n"
   ]
  },
  {
   "cell_type": "code",
   "execution_count": 25,
   "id": "c23dbcde",
   "metadata": {},
   "outputs": [],
   "source": [
    "selected_email = None \n",
    "\n",
    "selected_email = fetched_emails \n",
    "\n",
    "\n",
    "if selected_email:\n",
    "    current_email_state: EmailState = {\n",
    "        'emails': [selected_email], # Keep it in a list to match the TypedDict structure\n",
    "        'current_email': selected_email,\n",
    "        'history': [], # To log steps taken\n",
    "        'metadata': {} # To store classifications, etc.\n",
    "    }"
   ]
  },
  {
   "cell_type": "code",
   "execution_count": 26,
   "id": "a7677403",
   "metadata": {},
   "outputs": [
    {
     "data": {
      "text/plain": [
       "'Dear Hiring Manager’s\\r\\n\\r\\n\\r\\nI hope this m'"
      ]
     },
     "execution_count": 26,
     "metadata": {},
     "output_type": "execute_result"
    }
   ],
   "source": [
    "current_email_state['current_email'][0]['body'][:40] ## only priting 40 words"
   ]
  },
  {
   "cell_type": "code",
   "execution_count": 27,
   "id": "face5cc2",
   "metadata": {},
   "outputs": [
    {
     "name": "stdout",
     "output_type": "stream",
     "text": [
      "[]\n",
      "\n",
      "{}\n",
      "None\n"
     ]
    }
   ],
   "source": [
    "## but   initially we set histroty and meta data  empty\n",
    "print(current_email_state['history'])\n",
    "print()\n",
    "\n",
    "print(print(current_email_state['metadata'])\n",
    ")\n"
   ]
  },
  {
   "cell_type": "markdown",
   "id": "71eddad6",
   "metadata": {},
   "source": [
    "## LLM Model Initialization"
   ]
  },
  {
   "cell_type": "code",
   "execution_count": 28,
   "id": "09846979",
   "metadata": {},
   "outputs": [],
   "source": [
    "model_filtering = None\n",
    "model_summarization = None\n",
    "model_response = None\n"
   ]
  },
  {
   "cell_type": "code",
   "execution_count": 29,
   "id": "1708b944",
   "metadata": {},
   "outputs": [],
   "source": [
    "from langchain_openai import ChatOpenAI\n",
    "\n",
    "model_filtering = ChatOpenAI(\n",
    "        base_url=\"https://openrouter.ai/api/v1\",\n",
    "        model=\"deepseek/deepseek-chat\", # Using the specified model\n",
    "        temperature=0.0,\n",
    "        openai_api_key=OPENROUTER_API_KEY,\n",
    "        max_retries=5\n",
    "    )"
   ]
  },
  {
   "cell_type": "code",
   "execution_count": 30,
   "id": "1dcac7a6",
   "metadata": {},
   "outputs": [
    {
     "data": {
      "text/plain": [
       "AIMessage(content='Hello! 😊 How can I assist you today?', additional_kwargs={'refusal': None}, response_metadata={'token_usage': {'completion_tokens': 11, 'prompt_tokens': 4, 'total_tokens': 15, 'completion_tokens_details': {'accepted_prediction_tokens': None, 'audio_tokens': None, 'reasoning_tokens': 0, 'rejected_prediction_tokens': None}, 'prompt_tokens_details': {'audio_tokens': None, 'cached_tokens': 0}}, 'model_name': 'deepseek/deepseek-chat', 'system_fingerprint': '', 'id': 'gen-1753386751-gSkQcBb52a6pUgF7SYBY', 'service_tier': None, 'finish_reason': 'stop', 'logprobs': None}, id='run--978701e9-edd4-40c0-9492-89fec77022fc-0', usage_metadata={'input_tokens': 4, 'output_tokens': 11, 'total_tokens': 15, 'input_token_details': {'cache_read': 0}, 'output_token_details': {'reasoning': 0}})"
      ]
     },
     "execution_count": 30,
     "metadata": {},
     "output_type": "execute_result"
    }
   ],
   "source": [
    "#testing \n",
    "model_filtering.invoke(\"hi\")"
   ]
  },
  {
   "cell_type": "code",
   "execution_count": 31,
   "id": "d45c3bc5",
   "metadata": {},
   "outputs": [
    {
     "name": "stdout",
     "output_type": "stream",
     "text": [
      "ok\n"
     ]
    }
   ],
   "source": [
    "# Model for Summarization (moderate temperature for concise summaries)\n",
    "model_summarization = ChatOpenAI(\n",
    "        base_url=\"https://openrouter.ai/api/v1\",\n",
    "        model=\"deepseek/deepseek-chat\",\n",
    "        temperature=0.7,\n",
    "        openai_api_key=OPENROUTER_API_KEY,\n",
    "        max_retries=5\n",
    "    )\n",
    "\n",
    "if model_summarization:\n",
    "    print(\"ok\")"
   ]
  },
  {
   "cell_type": "code",
   "execution_count": 32,
   "id": "afe15f20",
   "metadata": {},
   "outputs": [
    {
     "name": "stdout",
     "output_type": "stream",
     "text": [
      "ok\n"
     ]
    }
   ],
   "source": [
    "# Model for Response Generation (higher temperature for more creative responses)\n",
    "\n",
    "model_response = ChatOpenAI(\n",
    "        base_url=\"https://openrouter.ai/api/v1\",\n",
    "        model=\"deepseek/deepseek-chat\",\n",
    "        temperature=0.8,\n",
    "        openai_api_key=OPENROUTER_API_KEY,\n",
    "        max_retries=5\n",
    "    )\n",
    "\n",
    "if model_response:\n",
    "    print(\"ok\")\n"
   ]
  },
  {
   "cell_type": "markdown",
   "id": "ec4d9cac",
   "metadata": {},
   "source": [
    "# Filter  Email"
   ]
  },
  {
   "cell_type": "code",
   "execution_count": 33,
   "id": "b055688e",
   "metadata": {},
   "outputs": [],
   "source": [
    "## now that we have selected email and also our llm is ready , lets test the filtering capability \n",
    "## this is classification task ,so low temperature is preferred for consistent result "
   ]
  },
  {
   "cell_type": "code",
   "execution_count": null,
   "id": "872df172",
   "metadata": {},
   "outputs": [
    {
     "data": {
      "text/plain": [
       "'Inquiry About Job Opportunities'"
      ]
     },
     "execution_count": 34,
     "metadata": {},
     "output_type": "execute_result"
    }
   ],
   "source": []
  },
  {
   "cell_type": "code",
   "execution_count": 35,
   "id": "5be6b819",
   "metadata": {},
   "outputs": [
    {
     "name": "stdout",
     "output_type": "stream",
     "text": [
      "subject:  Inquiry About Job Opportunities\n",
      "\n",
      "body :  Dear Hiring Manager’s\n",
      "\n",
      "\n",
      "I hope this message fin\n"
     ]
    }
   ],
   "source": [
    "subject= current_email_state['current_email'][0].get('subject' , \"\")\n",
    "print(\"subject: \" , subject) \n",
    "\n",
    "print() \n",
    "\n",
    "body = current_email_state['current_email'][0].get(\"body\", \"\")\n",
    "print(\"body : \" ,  body [:50]) ## we are priting all body but here  only priting 50 words because this is hell lots of words , \n"
   ]
  },
  {
   "cell_type": "markdown",
   "id": "b6b4d065",
   "metadata": {},
   "source": [
    "define prompt template for classfication "
   ]
  },
  {
   "cell_type": "code",
   "execution_count": 36,
   "id": "5aebcd03",
   "metadata": {},
   "outputs": [],
   "source": [
    "# Langchain and LangGraph imports\n",
    "from langchain_openai import ChatOpenAI\n",
    "from langchain_core.prompts import ChatPromptTemplate\n",
    "from langchain_core.output_parsers import StrOutputParser\n",
    "from langgraph.graph import END, StateGraph\n",
    "\n",
    "\n",
    "\n",
    "filter_prompt = ChatPromptTemplate.from_messages([\n",
    "        (\"system\", \"\"\"You are an expert email classifier. Your task is to categorize emails into one of the following:\n",
    "        - 'spam': Unsolicited commercial email, phishing attempts, or suspicious content.\n",
    "        - 'urgent': Emails requiring immediate attention or action.\n",
    "        - 'needs_review': Emails that require human discretion, contain ambiguous information, or might be important but not urgent.\n",
    "        - 'informational': Emails that are for general information, newsletters, or routine updates, requiring no immediate action.\n",
    "\n",
    "        Analyze the subject and body of the email to make an accurate classification.\n",
    "        Output only the category name (e.g., 'spam', 'urgent', 'needs_review', 'informational').\"\"\"),\n",
    "        (\"human\", \"Subject: {subject}\\n\\nBody: {body}\")\n",
    "    ])\n",
    "\n",
    "\n",
    "filter_chain = filter_prompt | model_filtering | StrOutputParser()\n",
    "\n"
   ]
  },
  {
   "cell_type": "code",
   "execution_count": 37,
   "id": "3bf86a4b",
   "metadata": {},
   "outputs": [
    {
     "data": {
      "text/plain": [
       "'needs_review'"
      ]
     },
     "execution_count": 37,
     "metadata": {},
     "output_type": "execute_result"
    }
   ],
   "source": [
    "## get classification \n",
    "classification = filter_chain.invoke({\"subject\": subject, \"body\": body}).strip().lower()\n",
    "classification\n"
   ]
  },
  {
   "cell_type": "code",
   "execution_count": 38,
   "id": "8752461e",
   "metadata": {},
   "outputs": [],
   "source": [
    "valid_categories = {\"spam\", \"urgent\", \"needs_review\", \"informational\"}\n",
    "if classification not in valid_categories:\n",
    "    classification = 'needs_review'\n",
    "    \n",
    " # Update the current_email_state with the classification\n",
    "\n",
    "current_email_state['current_email'][0][\"classification\"] = classification # ouput -> 'needs_review'\n",
    "current_email_state['metadata'][current_email_state['current_email'][0]['id']] = classification ## output -> {'3089': 'needs_review'}\n",
    "\n",
    "current_email_state['history'].append({\"step\": \"filter\", \"classification\": classification}) ## output ->[{'step': 'filter', 'classification': 'needs_review'}]\n",
    "\n",
    "\n",
    "\n"
   ]
  },
  {
   "cell_type": "markdown",
   "id": "4c5baa6b",
   "metadata": {},
   "source": [
    "if spam "
   ]
  },
  {
   "cell_type": "code",
   "execution_count": 39,
   "id": "18b90c56",
   "metadata": {},
   "outputs": [],
   "source": [
    "if classification == \"spam\":\n",
    "    # Set a flag to skip subsequent steps for SPAM\n",
    "    current_email_state['current_email'][0]['skip_ai_processing'] = True\n",
    "    \n",
    "else : \n",
    "     current_email_state['current_email'][0]['skip_ai_processing'] = False"
   ]
  },
  {
   "cell_type": "markdown",
   "id": "e51598f6",
   "metadata": {},
   "source": [
    "# Summarize Email"
   ]
  },
  {
   "cell_type": "code",
   "execution_count": 40,
   "id": "a533eed6",
   "metadata": {},
   "outputs": [
    {
     "name": "stdout",
     "output_type": "stream",
     "text": [
      "Ujjwal Basnet is inquiring about job opportunities, expressing interest in roles that match their skills (e.g., software development, data analysis). They’ve attached their résumé and are open to providing further details or references. They look forward to a potential connection.\n"
     ]
    }
   ],
   "source": [
    "if current_email_state['current_email'][0].get(\"skip_ai_processing\") == False : \n",
    "    ## only run this if email is not spam , because if it is spam we dont need to proces anything just reject the email\n",
    "\n",
    "\n",
    "    # Define the prompt template for summarization\n",
    "    summary_prompt = ChatPromptTemplate.from_messages([\n",
    "            (\"system\", \"\"\"You are a concise email summarizer. Your task is to provide a brief,\n",
    "            accurate summary of the email's key points. Focus on the main message and any\n",
    "            actionable items. Keep the summary to 2-3 sentences.\"\"\"),\n",
    "            (\"human\", \"Subject: {subject}\\n\\nBody: {body}\")\n",
    "        ])\n",
    "\n",
    "    # Create the Langchain chain for summarization\n",
    "    summary_chain = summary_prompt | model_summarization | StrOutputParser()\n",
    "\n",
    "\n",
    "    # Invoke the chain to get the summary\n",
    "    summary = summary_chain.invoke({\"subject\": subject, \"body\": body}).strip()\n",
    "    current_email_state['current_email'][0][\"summary\"] = summary\n",
    "    current_email_state['history'].append({\"step\": \"summarize\", \"summary_len\": len(summary)})\n",
    "\n",
    "    print(summary)"
   ]
  },
  {
   "cell_type": "markdown",
   "id": "9734ec71",
   "metadata": {},
   "source": [
    "### Generate Response "
   ]
  },
  {
   "cell_type": "code",
   "execution_count": 41,
   "id": "9e6f6d4a",
   "metadata": {},
   "outputs": [],
   "source": [
    "subject_for_response = current_email_state['current_email'][0].get(\"subject\", \"\")\n",
    "sender_for_response = current_email_state['current_email'][0].get(\"sender\", \"The sender\")\n",
    "summary_for_response = current_email_state['current_email'][0].get(\"summary\", \"\")\n"
   ]
  },
  {
   "cell_type": "code",
   "execution_count": 42,
   "id": "af405dad",
   "metadata": {},
   "outputs": [
    {
     "data": {
      "text/plain": [
       "('Inquiry About Job Opportunities',\n",
       " 'Ujjwal Basnet <ujjwalvictus15@gmail.com>',\n",
       " 'Ujjwal Basnet is inquiring about job opportunities, expressing interest in roles that match their skills (e.g., software development, data analysis). They’ve attached their résumé and are open to providing further details or references. They look forward to a potential connection.')"
      ]
     },
     "execution_count": 42,
     "metadata": {},
     "output_type": "execute_result"
    }
   ],
   "source": [
    "subject_for_response , sender_for_response  , summary_for_response"
   ]
  },
  {
   "cell_type": "code",
   "execution_count": null,
   "id": "ee750999",
   "metadata": {},
   "outputs": [],
   "source": []
  },
  {
   "cell_type": "code",
   "execution_count": 43,
   "id": "841bd565",
   "metadata": {},
   "outputs": [],
   "source": [
    "sender_name = input(\"For the response signature, please enter your name  \")\n",
    "reciver_name= input(\"for email greetign like (dear name) , please enter name\")\n",
    "\n",
    "\n",
    "\n",
    "response_prompt = ChatPromptTemplate.from_messages([\n",
    "        (\"system\", \"\"\"You are an AI email assistant. Your task is to craft a polite, relevant, and concise email reply.\n",
    "        Consider the email's subject, sender, and the provided summary.\n",
    "\n",
    "        If the email is 'informational', a brief acknowledgment or \"thank you\" is usually sufficient.\n",
    "        If it's 'urgent' or 'needs_review', suggest next steps or ask clarifying questions.\n",
    "\n",
    "        Aim for a professional and helpful tone. Do not include subject lines or greetings/signatures in your direct response,\n",
    "        just the body of the reply.\"\"\"),\n",
    "        (\"human\", \"Original Subject: {subject}\\nFrom: {sender}\\nSummary of email: {summary}\\n\\nGenerate a suitable reply:\")\n",
    "    ])\n"
   ]
  },
  {
   "cell_type": "code",
   "execution_count": 44,
   "id": "147254c7",
   "metadata": {},
   "outputs": [],
   "source": [
    "response_chain = response_prompt | model_response | StrOutputParser()"
   ]
  },
  {
   "cell_type": "code",
   "execution_count": 45,
   "id": "154ce95d",
   "metadata": {},
   "outputs": [],
   "source": [
    "response_content_raw = response_chain.invoke({\n",
    "            \"subject\": subject,\n",
    "            \"sender\": sender_raw,\n",
    "            \"summary\": summary_for_response\n",
    "        }).strip()\n"
   ]
  },
  {
   "cell_type": "code",
   "execution_count": 46,
   "id": "dd0680e2",
   "metadata": {},
   "outputs": [
    {
     "name": "stdout",
     "output_type": "stream",
     "text": [
      "Thank you for reaching out and sharing your interest in potential job opportunities. We appreciate you taking the time to attach your résumé—we’ll review it carefully to see how your skills align with our current openings.  \n",
      "\n",
      "If there’s a match, we’ll be in touch to discuss next steps. In the meantime, feel free to share any additional details or preferences regarding the roles you’re seeking.  \n",
      "\n",
      "We’ll do our best to respond promptly, and we appreciate your patience.  \n",
      "\n",
      "Best regards,  \n",
      "[Your Name/Team Name]\n"
     ]
    }
   ],
   "source": [
    "print(response_content_raw)"
   ]
  },
  {
   "cell_type": "markdown",
   "id": "e4471571",
   "metadata": {},
   "source": [
    "## send email "
   ]
  },
  {
   "cell_type": "code",
   "execution_count": 50,
   "id": "8315fc30",
   "metadata": {},
   "outputs": [],
   "source": [
    "response_content_filter= response_content_raw"
   ]
  },
  {
   "cell_type": "code",
   "execution_count": 53,
   "id": "2731c7e0",
   "metadata": {},
   "outputs": [
    {
     "name": "stdout",
     "output_type": "stream",
     "text": [
      "Thank you for reaching out and sharing your interest in potential job opportunities. We appreciate you taking the time to attach your résumé—we’ll review it carefully to see how your skills align with our current openings.  \n",
      "\n",
      "If there’s a match, we’ll be in touch to discuss next steps. In the meantime, feel free to share any additional details or preferences regarding the roles you’re seeking.  \n",
      "\n",
      "We’ll do our best to respond promptly, and we appreciate your patience.  \n",
      "\n",
      "Best regards,  \n",
      "manager\n"
     ]
    }
   ],
   "source": [
    "your_name= \"manager\" \n",
    "\n",
    "\n",
    "response_content_filter= response_content_filter.replace(\"[Your Name/Team Name]\", your_name)\n",
    "\n",
    "print(response_content_filter)"
   ]
  },
  {
   "cell_type": "code",
   "execution_count": 58,
   "id": "bd77264d",
   "metadata": {},
   "outputs": [],
   "source": [
    "\n",
    "from email.mime.text import MIMEText\n",
    "from smtplib import SMTP_SSL\n",
    "\n",
    "import smtplib\n"
   ]
  },
  {
   "cell_type": "code",
   "execution_count": 59,
   "id": "83d78ace",
   "metadata": {},
   "outputs": [
    {
     "name": "stdout",
     "output_type": "stream",
     "text": [
      "✅ Message sent successfully!\n"
     ]
    }
   ],
   "source": [
    "# --- Extract subject from body ---\n",
    "if response_content_filter.startswith(\"Subject:\"):\n",
    "    subject_line, body_content = response_content_filter.split(\"\\n\\n\", 1)\n",
    "    subject = subject_line.replace(\"Subject:\", \"\").strip()\n",
    "else:\n",
    "    subject = \"No Subject\"\n",
    "    body_content = body_filled\n",
    "\n",
    "# --- Function to send email ---\n",
    "def send_email(subject, body, sender, recipients, password):\n",
    "    msg = MIMEText(body)\n",
    "    msg['Subject'] = subject\n",
    "    msg['From'] = sender\n",
    "    msg['To'] = ', '.join(recipients)\n",
    "\n",
    "    try:\n",
    "        with smtplib.SMTP_SSL('smtp.gmail.com', 465) as smtp_server:\n",
    "            smtp_server.login(sender, password)\n",
    "            smtp_server.sendmail(sender, recipients, msg.as_string())\n",
    "        print(\"✅ Message sent successfully!\")\n",
    "    except Exception as e:\n",
    "        print(f\"❌ Failed to send email. Error: {e}\")\n",
    "        print(\"Make sure your sender address, app password, and connection are valid.\")\n",
    "\n",
    "# --- Send the email ---\n",
    "send_email(subject, body_content, sender= SENDER_EMAIL, recipients=RECIPIENTS_STR, password=APP_PASSWORD )\n"
   ]
  },
  {
   "cell_type": "code",
   "execution_count": null,
   "id": "373ba668",
   "metadata": {},
   "outputs": [],
   "source": []
  }
 ],
 "metadata": {
  "kernelspec": {
   "display_name": "Building-LLMs-for-Production",
   "language": "python",
   "name": "python3"
  },
  "language_info": {
   "codemirror_mode": {
    "name": "ipython",
    "version": 3
   },
   "file_extension": ".py",
   "mimetype": "text/x-python",
   "name": "python",
   "nbconvert_exporter": "python",
   "pygments_lexer": "ipython3",
   "version": "3.11.8"
  }
 },
 "nbformat": 4,
 "nbformat_minor": 5
}
